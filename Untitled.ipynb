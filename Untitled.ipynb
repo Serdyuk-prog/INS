{
 "cells": [
  {
   "cell_type": "code",
   "execution_count": 2,
   "id": "72084948",
   "metadata": {},
   "outputs": [],
   "source": [
    "from __future__ import absolute_import, division, print_function, unicode_literals\n",
    "import tensorflow as  tf\n",
    "tf.compat.v1.logging.set_verbosity(tf.compat.v1.logging.ERROR)\n",
    "\n",
    "import numpy as np"
   ]
  },
  {
   "cell_type": "code",
   "execution_count": 3,
   "id": "0f42b637",
   "metadata": {},
   "outputs": [
    {
     "name": "stdout",
     "output_type": "stream",
     "text": [
      "10.0 долларов США = 8.18 евро\n",
      "20.0 долларов США = 16.36 евро\n",
      "60.0 долларов США = 49.08 евро\n",
      "100.0 долларов США = 81.8 евро\n",
      "150.0 долларов США = 122.71 евро\n",
      "220.0 долларов США = 179.97 евро\n",
      "38.0 долларов США = 31.09 евро\n"
     ]
    }
   ],
   "source": [
    "#Вводим данные для обучения модели\n",
    "dollar_q    = np.array([10, 20, 60, 100, 150, 220, 38], dtype=float)\n",
    "euro_a = np.array([8.18, 16.36, 49.08, 81.80, 122.71, 179.97, 31.09], dtype=float)\n",
    "\n",
    "for i,c in enumerate(dollar_q):\n",
    "  print(\"{} долларов США = {} евро\".format(c, euro_a[i]))"
   ]
  },
  {
   "cell_type": "markdown",
   "id": "5839351a",
   "metadata": {},
   "source": [
    "Содаем модель\n",
    "Используем модель плотной сети (Dense-сеть),\n",
    "которая будет состоять из единственного слоя с еднственым нейроном\n",
    "\n",
    "Создаем слой l0 количесвто нейронов (units) равно 1,\n",
    "размерность входного параметра (input_shape) - единичное значение\n",
    "разменость входных данных = размерность всей модели"
   ]
  },
  {
   "cell_type": "code",
   "execution_count": 4,
   "id": "bd757955",
   "metadata": {},
   "outputs": [],
   "source": [
    "l0 = tf.keras.layers.Dense(units=1, input_shape=[1])"
   ]
  },
  {
   "cell_type": "code",
   "execution_count": 5,
   "id": "90f12195",
   "metadata": {},
   "outputs": [],
   "source": [
    "# Преобразуем слой в модель\n",
    "model = tf.keras.Sequential([l0])"
   ]
  },
  {
   "cell_type": "markdown",
   "id": "a871625c",
   "metadata": {},
   "source": [
    "Компилируем модель с функцией потерь и оптимизаций\n",
    "Функция потерь - среденквалратичная ошибка\n",
    "Для функции оптимизации параметр, коэфициент скорости ибучения, равен 0.1 - это размер шага при корректировке внутренних значений переменных"
   ]
  },
  {
   "cell_type": "code",
   "execution_count": 6,
   "id": "ba652274",
   "metadata": {},
   "outputs": [],
   "source": [
    "model.compile(loss='mean_squared_error',\n",
    "              optimizer=tf.keras.optimizers.Adam(0.1))"
   ]
  },
  {
   "cell_type": "markdown",
   "id": "564a13c8",
   "metadata": {},
   "source": [
    "Тренируем модель\n",
    "используем метод fit, первый аргумент - входные значения, второй арумент - желаемые выходные значения\n",
    "epochs - количество итераций цыкла обучения\n",
    "verbose - контроль уровня логирования"
   ]
  },
  {
   "cell_type": "code",
   "execution_count": 9,
   "id": "a4b9883a",
   "metadata": {
    "scrolled": false
   },
   "outputs": [
    {
     "name": "stdout",
     "output_type": "stream",
     "text": [
      "Завершили тренировку модели\n"
     ]
    },
    {
     "data": {
      "text/plain": [
       "<function matplotlib.pyplot.show(close=None, block=None)>"
      ]
     },
     "execution_count": 9,
     "metadata": {},
     "output_type": "execute_result"
    },
    {
     "data": {
      "image/png": "[encoded data removed]",
      "text/plain": [
       "<Figure size 432x288 with 1 Axes>"
      ]
     },
     "metadata": {
      "needs_background": "light"
     },
     "output_type": "display_data"
    }
   ],
   "source": [
    "history = model.fit(dollar_q, euro_a, epochs=1000, verbose=False)\n",
    "print(\"Завершили тренировку модели\")\n",
    "\n",
    "# Выводим график обучения\n",
    "import matplotlib.pyplot as plt\n",
    "plt.xlabel('Epoch')\n",
    "plt.ylabel('Loss')\n",
    "plt.plot(history.history['loss'])\n",
    "plt.show"
   ]
  },
  {
   "cell_type": "markdown",
   "id": "849a5833",
   "metadata": {},
   "source": [
    "Тесты:"
   ]
  },
  {
   "cell_type": "code",
   "execution_count": 15,
   "id": "684e4a9c",
   "metadata": {
    "scrolled": true
   },
   "outputs": [
    {
     "name": "stdout",
     "output_type": "stream",
     "text": [
      "[[18.8147]]\n",
      "[[36.81176]]\n",
      "[[8.998119]]\n",
      "[[134.15952]]\n",
      "[[518.6422]]\n",
      "[[346.034]]\n",
      "[[43.356148]]\n"
     ]
    }
   ],
   "source": [
    "dollar_test = np.array([23, 45, 11, 164, 634, 423, 53], dtype=float)\n",
    "\n",
    "for i in dollar_test:\n",
    "    print(model.predict([i]))"
   ]
  },
  {
   "cell_type": "code",
   "execution_count": 14,
   "id": "3a40ee17",
   "metadata": {},
   "outputs": [
    {
     "name": "stdout",
     "output_type": "stream",
     "text": [
      "[[0.00469971]]\n",
      "[[0.00175858]]\n",
      "[[0.00011921]]\n",
      "[[0.00752258]]\n",
      "[[0.0302124]]\n",
      "[[0.01998901]]\n",
      "[[0.00214767]]\n"
     ]
    }
   ],
   "source": [
    "dollar_test = np.array([23, 45, 11, 164, 634, 423, 53], dtype=float) \n",
    "euro_test = np.array([18.81, 36.81, 8.998, 134.152, 518.612, 346.014, 43.354], dtype=float) \n",
    "\n",
    "for i in range(7): \n",
    "    print(model.predict([dollar_test[i]]) - euro_test[i])"
   ]
  }
 ],
 "metadata": {
  "kernelspec": {
   "display_name": "Python 3",
   "language": "python",
   "name": "python3"
  },
  "language_info": {
   "codemirror_mode": {
    "name": "ipython",
    "version": 3
   },
   "file_extension": ".py",
   "mimetype": "text/x-python",
   "name": "python",
   "nbconvert_exporter": "python",
   "pygments_lexer": "ipython3",
   "version": "3.8.1"
  }
 },
 "nbformat": 4,
 "nbformat_minor": 5
}
